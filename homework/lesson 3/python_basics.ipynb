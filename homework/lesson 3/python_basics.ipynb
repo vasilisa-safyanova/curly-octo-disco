print (42)
print (42.2)
print ('text' )
print (False)



